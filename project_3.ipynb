{
 "cells": [
  {
   "cell_type": "markdown",
   "metadata": {},
   "source": [
    "Define an application (e.g., predicting the next location) based on the datasets, and give a solution.\n",
    "The solution Includes but not limited to traditional analytics, machine learning, deep learning, and\n",
    "LLM-related tasks. Implement your solution, and provide some experimental results to show your\n",
    "solution works."
   ]
  },
  {
   "cell_type": "code",
   "execution_count": 1,
   "metadata": {},
   "outputs": [],
   "source": [
    "import pandas as pd\n",
    "import numpy as np\n",
    "from shapely import wkt\n",
    "from sklearn.model_selection import train_test_split\n",
    "from transformers import GPT2Tokenizer, GPT2LMHeadModel, Trainer, TrainingArguments\n",
    "import torch"
   ]
  },
  {
   "cell_type": "code",
   "execution_count": 2,
   "metadata": {},
   "outputs": [],
   "source": [
    "# Load data\n",
    "df = pd.read_csv('/Users/linhtrankhanh/Documents/GitHub/HuMob-Data-Mining-P2/triplegs_data/triplegs_C.csv')\n",
    "\n",
    "# Convert 'geom' to latitude and longitude\n",
    "def extract_lat_long(geom):\n",
    "    line = wkt.loads(geom)\n",
    "    lat, long = zip(*line.coords)\n",
    "    return lat[-1], long[-1]\n",
    "\n",
    "df['latitude'], df['longitude'] = zip(*df['geom'].apply(extract_lat_long))\n",
    "\n",
    "# Extract features from datetime\n",
    "df['started_at'] = pd.to_datetime(df['started_at'])\n",
    "df['finished_at'] = pd.to_datetime(df['finished_at'])\n",
    "df['day_of_week'] = df['started_at'].dt.dayofweek\n",
    "df['hour_of_day'] = df['started_at'].dt.hour\n",
    "df['trip_duration'] = (df['finished_at'] - df['started_at']).dt.total_seconds() / 60\n",
    "\n",
    "# Creating sequences of past locations\n",
    "sequence_length = 10\n",
    "\n",
    "sequences = []\n",
    "labels = []\n",
    "\n",
    "for user_id, group in df.groupby('user_id'):\n",
    "    locations = group[['latitude', 'longitude']].values\n",
    "    for i in range(len(locations) - sequence_length):\n",
    "        sequences.append(locations[i:i + sequence_length])\n",
    "        labels.append(locations[i + sequence_length])\n",
    "\n",
    "sequences = np.array(sequences)\n",
    "labels = np.array(labels)\n",
    "\n",
    "X_train, X_test, y_train, y_test = train_test_split(sequences, labels, test_size=0.2, random_state=42)\n"
   ]
  },
  {
   "cell_type": "code",
   "execution_count": null,
   "metadata": {},
   "outputs": [],
   "source": [
    "import torch\n",
    "import torch.nn as nn\n",
    "import torch.optim as optim\n",
    "from torch.utils.data import DataLoader, TensorDataset\n",
    "\n",
    "# Define Transformer Model\n",
    "class TransformerModel(nn.Module):\n",
    "    def __init__(self, input_size, num_layers, num_heads, hidden_dim):\n",
    "        super(TransformerModel, self).__init__()\n",
    "        self.encoder_layer = nn.TransformerEncoderLayer(d_model=input_size, nhead=num_heads, dim_feedforward=hidden_dim, batch_first=True)\n",
    "        self.transformer_encoder = nn.TransformerEncoder(self.encoder_layer, num_layers=num_layers)\n",
    "        self.fc_out = nn.Linear(input_size, 2)  # Output 2 values (latitude and longitude)\n",
    "\n",
    "    def forward(self, x):\n",
    "        x = self.transformer_encoder(x)\n",
    "        x = self.fc_out(x[:, -1, :])  # Use the output from the last time step\n",
    "        return x\n",
    "\n",
    "# Hyperparameters\n",
    "input_size = 2  # Latitude and Longitude\n",
    "num_layers = 3\n",
    "num_heads = 2\n",
    "hidden_dim = 128\n",
    "lr = 0.001\n",
    "num_epochs = 50\n",
    "batch_size = 32\n",
    "\n",
    "# Prepare data\n",
    "train_dataset = TensorDataset(torch.tensor(X_train, dtype=torch.float32), torch.tensor(y_train, dtype=torch.float32))\n",
    "test_dataset = TensorDataset(torch.tensor(X_test, dtype=torch.float32), torch.tensor(y_test, dtype=torch.float32))\n",
    "\n",
    "train_loader = DataLoader(train_dataset, batch_size=batch_size, shuffle=True)\n",
    "test_loader = DataLoader(test_dataset, batch_size=batch_size, shuffle=False)\n",
    "\n",
    "# Initialize model, loss function, and optimizer\n",
    "model = TransformerModel(input_size, num_layers, num_heads, hidden_dim)\n",
    "criterion = nn.MSELoss()\n",
    "optimizer = optim.Adam(model.parameters(), lr=lr)\n",
    "\n",
    "# Training loop\n",
    "for epoch in range(num_epochs):\n",
    "    model.train()\n",
    "    for X_batch, y_batch in train_loader:\n",
    "        optimizer.zero_grad()\n",
    "        outputs = model(X_batch)\n",
    "        loss = criterion(outputs, y_batch)\n",
    "        loss.backward()\n",
    "        optimizer.step()\n",
    "\n",
    "    print(f'Epoch {epoch+1}/{num_epochs}, Loss: {loss.item()}')"
   ]
  },
  {
   "cell_type": "code",
   "execution_count": null,
   "metadata": {},
   "outputs": [],
   "source": [
    "# Evaluation\n",
    "model.eval()\n",
    "predictions = []\n",
    "true_values = []\n",
    "\n",
    "with torch.no_grad():\n",
    "    for X_batch, y_batch in test_loader:\n",
    "        outputs = model(X_batch)\n",
    "        predictions.extend(outputs.numpy())\n",
    "        true_values.extend(y_batch.numpy())\n",
    "\n",
    "from sklearn.metrics import mean_absolute_error\n",
    "mae = mean_absolute_error(true_values, predictions)\n",
    "print(f'Mean Absolute Error: {mae}')"
   ]
  }
 ],
 "metadata": {
  "kernelspec": {
   "display_name": "Python 3.10.6 64-bit",
   "language": "python",
   "name": "python3"
  },
  "language_info": {
   "codemirror_mode": {
    "name": "ipython",
    "version": 3
   },
   "file_extension": ".py",
   "mimetype": "text/x-python",
   "name": "python",
   "nbconvert_exporter": "python",
   "pygments_lexer": "ipython3",
   "version": "3.10.6"
  },
  "orig_nbformat": 4,
  "vscode": {
   "interpreter": {
    "hash": "7e1998ff7f8aa20ada591c520b972326324e5ea05489af9e422744c7c09f6dad"
   }
  }
 },
 "nbformat": 4,
 "nbformat_minor": 2
}
