{
 "cells": [
  {
   "cell_type": "code",
   "execution_count": null,
   "metadata": {},
   "outputs": [],
   "source": [
    "import pandas as pd\n",
    "import os\n",
    "import trackintel as ti \n",
    "import geopandas as gpd"
   ]
  },
  {
   "cell_type": "markdown",
   "metadata": {},
   "source": [
    "### Exploring Tripleg of a single user in City A "
   ]
  },
  {
   "cell_type": "code",
   "execution_count": null,
   "metadata": {},
   "outputs": [
    {
     "name": "stdout",
     "output_type": "stream",
     "text": [
      "First 3 rows of the dataset:\n",
      "   uid  d  t   x   y\n",
      "0    0  0  1  79  86\n",
      "1    0  0  2  79  86\n",
      "2    0  0  8  77  86\n",
      "\n",
      "Missing values in each column:\n",
      "uid    0\n",
      "d      0\n",
      "t      0\n",
      "x      0\n",
      "y      0\n",
      "dtype: int64\n",
      "\n",
      "Number of data points in the City A: 111535175\n",
      "Subset of data for uid = 0:\n",
      "   uid  d   t   x   y\n",
      "0    0  0   1  79  86\n",
      "1    0  0   2  79  86\n",
      "2    0  0   8  77  86\n",
      "3    0  0   9  77  86\n",
      "4    0  0  19  81  89\n",
      "1261\n"
     ]
    }
   ],
   "source": [
    "directory_path = 'data/'\n",
    "\n",
    "file_paths = [os.path.join(directory_path, file) for file in os.listdir(directory_path) if file.endswith('.csv.gz')]\n",
    "\n",
    "# Get City A - Create a subset of the data of only the first City \n",
    "file_path = file_paths[0]\n",
    "data = pd.read_csv(file_path, compression='gzip')\n",
    "\n",
    "print(\"First 3 rows of the dataset:\")\n",
    "print(data.head(3))\n",
    "\n",
    "print(\"\\nMissing values in each column:\")\n",
    "print(data.isnull().sum())\n",
    "\n",
    "num_data_points = len(data)\n",
    "print(f\"\\nNumber of data points in the City A: {num_data_points}\")\n",
    "\n",
    "subset_data = data[data['uid'] == 0]  # take a subset of a specific user in City D (for conveienice)\n",
    "\n",
    "print(\"Subset of data for uid = 0:\")\n",
    "print(subset_data.head())\n",
    "\n",
    "print(len(subset_data))\n"
   ]
  },
  {
   "cell_type": "code",
   "execution_count": null,
   "metadata": {},
   "outputs": [],
   "source": []
  }
 ],
 "metadata": {
  "kernelspec": {
   "display_name": "venv",
   "language": "python",
   "name": "python3"
  },
  "language_info": {
   "codemirror_mode": {
    "name": "ipython",
    "version": 3
   },
   "file_extension": ".py",
   "mimetype": "text/x-python",
   "name": "python",
   "nbconvert_exporter": "python",
   "pygments_lexer": "ipython3",
   "version": "3.8.9"
  }
 },
 "nbformat": 4,
 "nbformat_minor": 2
}
